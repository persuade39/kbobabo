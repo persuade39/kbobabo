{
 "cells": [
  {
   "cell_type": "code",
   "execution_count": 88,
   "metadata": {},
   "outputs": [],
   "source": [
    "import pandas as pd\n",
    "import numpy as np\n",
    "import seaborn as sns\n",
    "import matplotlib.pyplot as plt"
   ]
  },
  {
   "cell_type": "markdown",
   "metadata": {},
   "source": [
    "### 데이터 불러오기"
   ]
  },
  {
   "cell_type": "code",
   "execution_count": 89,
   "metadata": {},
   "outputs": [],
   "source": [
    "df = pd.read_csv('weather_2124.csv', encoding= 'cp949')\n",
    "df = df.rename(columns = {'평균기온(°C)' : '평균기온',\n",
    "                          '최저기온(°C)' : '최저기온',\n",
    "                          '최고기온(°C)' : '최고기온', \n",
    "                          '일강수량(mm)' : '일강수량',\n",
    "                          '평균 풍속(m/s)' : '풍속',\n",
    "                          '평균 상대습도(%)' : '습도'})\n",
    "\n",
    "df_seoul = df[df['지점명'] == '서울']"
   ]
  },
  {
   "cell_type": "code",
   "execution_count": 90,
   "metadata": {},
   "outputs": [
    {
     "name": "stdout",
     "output_type": "stream",
     "text": [
      "<class 'pandas.core.frame.DataFrame'>\n",
      "RangeIndex: 11820 entries, 0 to 11819\n",
      "Data columns (total 9 columns):\n",
      " #   Column  Non-Null Count  Dtype  \n",
      "---  ------  --------------  -----  \n",
      " 0   지점      11820 non-null  int64  \n",
      " 1   지점명     11820 non-null  object \n",
      " 2   일시      11820 non-null  object \n",
      " 3   평균기온    11820 non-null  float64\n",
      " 4   최저기온    11818 non-null  float64\n",
      " 5   최고기온    11819 non-null  float64\n",
      " 6   일강수량    4563 non-null   float64\n",
      " 7   풍속      11809 non-null  float64\n",
      " 8   습도      11815 non-null  float64\n",
      "dtypes: float64(6), int64(1), object(2)\n",
      "memory usage: 831.2+ KB\n"
     ]
    }
   ],
   "source": [
    "df.info()"
   ]
  },
  {
   "cell_type": "code",
   "execution_count": 91,
   "metadata": {},
   "outputs": [
    {
     "data": {
      "text/plain": [
       "지점         0\n",
       "지점명        0\n",
       "일시         0\n",
       "평균기온       0\n",
       "최저기온       2\n",
       "최고기온       1\n",
       "일강수량    7257\n",
       "풍속        11\n",
       "습도         5\n",
       "dtype: int64"
      ]
     },
     "execution_count": 91,
     "metadata": {},
     "output_type": "execute_result"
    }
   ],
   "source": [
    "df.isnull().sum()"
   ]
  },
  {
   "cell_type": "markdown",
   "metadata": {},
   "source": [
    "### 전처리 1. 강수량"
   ]
  },
  {
   "cell_type": "code",
   "execution_count": 92,
   "metadata": {},
   "outputs": [
    {
     "data": {
      "text/html": [
       "<div>\n",
       "<style scoped>\n",
       "    .dataframe tbody tr th:only-of-type {\n",
       "        vertical-align: middle;\n",
       "    }\n",
       "\n",
       "    .dataframe tbody tr th {\n",
       "        vertical-align: top;\n",
       "    }\n",
       "\n",
       "    .dataframe thead th {\n",
       "        text-align: right;\n",
       "    }\n",
       "</style>\n",
       "<table border=\"1\" class=\"dataframe\">\n",
       "  <thead>\n",
       "    <tr style=\"text-align: right;\">\n",
       "      <th></th>\n",
       "      <th>지점</th>\n",
       "      <th>지점명</th>\n",
       "      <th>일시</th>\n",
       "      <th>평균기온</th>\n",
       "      <th>최저기온</th>\n",
       "      <th>최고기온</th>\n",
       "      <th>일강수량</th>\n",
       "      <th>풍속</th>\n",
       "      <th>습도</th>\n",
       "      <th>강수여부</th>\n",
       "    </tr>\n",
       "  </thead>\n",
       "  <tbody>\n",
       "    <tr>\n",
       "      <th>0</th>\n",
       "      <td>108</td>\n",
       "      <td>서울</td>\n",
       "      <td>2021-01-01</td>\n",
       "      <td>-4.2</td>\n",
       "      <td>-9.8</td>\n",
       "      <td>1.6</td>\n",
       "      <td>0.0</td>\n",
       "      <td>2.0</td>\n",
       "      <td>64.0</td>\n",
       "      <td>sunny</td>\n",
       "    </tr>\n",
       "    <tr>\n",
       "      <th>1</th>\n",
       "      <td>108</td>\n",
       "      <td>서울</td>\n",
       "      <td>2021-01-02</td>\n",
       "      <td>-5.0</td>\n",
       "      <td>-8.4</td>\n",
       "      <td>-1.4</td>\n",
       "      <td>0.0</td>\n",
       "      <td>2.6</td>\n",
       "      <td>38.5</td>\n",
       "      <td>sunny</td>\n",
       "    </tr>\n",
       "    <tr>\n",
       "      <th>2</th>\n",
       "      <td>108</td>\n",
       "      <td>서울</td>\n",
       "      <td>2021-01-03</td>\n",
       "      <td>-5.6</td>\n",
       "      <td>-9.1</td>\n",
       "      <td>-2.0</td>\n",
       "      <td>0.0</td>\n",
       "      <td>2.0</td>\n",
       "      <td>45.0</td>\n",
       "      <td>sunny</td>\n",
       "    </tr>\n",
       "    <tr>\n",
       "      <th>3</th>\n",
       "      <td>108</td>\n",
       "      <td>서울</td>\n",
       "      <td>2021-01-04</td>\n",
       "      <td>-3.5</td>\n",
       "      <td>-8.4</td>\n",
       "      <td>0.3</td>\n",
       "      <td>0.0</td>\n",
       "      <td>1.7</td>\n",
       "      <td>51.4</td>\n",
       "      <td>sunny</td>\n",
       "    </tr>\n",
       "    <tr>\n",
       "      <th>4</th>\n",
       "      <td>108</td>\n",
       "      <td>서울</td>\n",
       "      <td>2021-01-05</td>\n",
       "      <td>-5.5</td>\n",
       "      <td>-9.9</td>\n",
       "      <td>-2.1</td>\n",
       "      <td>0.0</td>\n",
       "      <td>2.9</td>\n",
       "      <td>52.8</td>\n",
       "      <td>sunny</td>\n",
       "    </tr>\n",
       "    <tr>\n",
       "      <th>...</th>\n",
       "      <td>...</td>\n",
       "      <td>...</td>\n",
       "      <td>...</td>\n",
       "      <td>...</td>\n",
       "      <td>...</td>\n",
       "      <td>...</td>\n",
       "      <td>...</td>\n",
       "      <td>...</td>\n",
       "      <td>...</td>\n",
       "      <td>...</td>\n",
       "    </tr>\n",
       "    <tr>\n",
       "      <th>11815</th>\n",
       "      <td>159</td>\n",
       "      <td>부산</td>\n",
       "      <td>2024-03-23</td>\n",
       "      <td>16.1</td>\n",
       "      <td>12.3</td>\n",
       "      <td>20.5</td>\n",
       "      <td>0.7</td>\n",
       "      <td>5.2</td>\n",
       "      <td>73.6</td>\n",
       "      <td>rainy</td>\n",
       "    </tr>\n",
       "    <tr>\n",
       "      <th>11816</th>\n",
       "      <td>159</td>\n",
       "      <td>부산</td>\n",
       "      <td>2024-03-24</td>\n",
       "      <td>11.3</td>\n",
       "      <td>10.1</td>\n",
       "      <td>13.6</td>\n",
       "      <td>3.7</td>\n",
       "      <td>4.2</td>\n",
       "      <td>77.5</td>\n",
       "      <td>rainy</td>\n",
       "    </tr>\n",
       "    <tr>\n",
       "      <th>11817</th>\n",
       "      <td>159</td>\n",
       "      <td>부산</td>\n",
       "      <td>2024-03-25</td>\n",
       "      <td>10.5</td>\n",
       "      <td>8.7</td>\n",
       "      <td>12.4</td>\n",
       "      <td>9.4</td>\n",
       "      <td>4.2</td>\n",
       "      <td>82.4</td>\n",
       "      <td>rainy</td>\n",
       "    </tr>\n",
       "    <tr>\n",
       "      <th>11818</th>\n",
       "      <td>159</td>\n",
       "      <td>부산</td>\n",
       "      <td>2024-03-26</td>\n",
       "      <td>8.8</td>\n",
       "      <td>6.2</td>\n",
       "      <td>12.9</td>\n",
       "      <td>9.8</td>\n",
       "      <td>3.8</td>\n",
       "      <td>75.4</td>\n",
       "      <td>rainy</td>\n",
       "    </tr>\n",
       "    <tr>\n",
       "      <th>11819</th>\n",
       "      <td>159</td>\n",
       "      <td>부산</td>\n",
       "      <td>2024-03-27</td>\n",
       "      <td>10.1</td>\n",
       "      <td>5.0</td>\n",
       "      <td>14.9</td>\n",
       "      <td>0.0</td>\n",
       "      <td>2.0</td>\n",
       "      <td>66.3</td>\n",
       "      <td>sunny</td>\n",
       "    </tr>\n",
       "  </tbody>\n",
       "</table>\n",
       "<p>11820 rows × 10 columns</p>\n",
       "</div>"
      ],
      "text/plain": [
       "        지점 지점명          일시  평균기온  최저기온  최고기온  일강수량   풍속    습도   강수여부\n",
       "0      108  서울  2021-01-01  -4.2  -9.8   1.6   0.0  2.0  64.0  sunny\n",
       "1      108  서울  2021-01-02  -5.0  -8.4  -1.4   0.0  2.6  38.5  sunny\n",
       "2      108  서울  2021-01-03  -5.6  -9.1  -2.0   0.0  2.0  45.0  sunny\n",
       "3      108  서울  2021-01-04  -3.5  -8.4   0.3   0.0  1.7  51.4  sunny\n",
       "4      108  서울  2021-01-05  -5.5  -9.9  -2.1   0.0  2.9  52.8  sunny\n",
       "...    ...  ..         ...   ...   ...   ...   ...  ...   ...    ...\n",
       "11815  159  부산  2024-03-23  16.1  12.3  20.5   0.7  5.2  73.6  rainy\n",
       "11816  159  부산  2024-03-24  11.3  10.1  13.6   3.7  4.2  77.5  rainy\n",
       "11817  159  부산  2024-03-25  10.5   8.7  12.4   9.4  4.2  82.4  rainy\n",
       "11818  159  부산  2024-03-26   8.8   6.2  12.9   9.8  3.8  75.4  rainy\n",
       "11819  159  부산  2024-03-27  10.1   5.0  14.9   0.0  2.0  66.3  sunny\n",
       "\n",
       "[11820 rows x 10 columns]"
      ]
     },
     "execution_count": 92,
     "metadata": {},
     "output_type": "execute_result"
    }
   ],
   "source": [
    "# 1-1 강수량 null 은 0으로 처리 \n",
    "df['일강수량'] = df['일강수량'].fillna(0)\n",
    "\n",
    "\n",
    "# 1-2 강수여부 컬럼 추가 \n",
    "df['강수여부'] = np.where(df[['일강수량']] == 0, 'sunny', 'rainy')\n",
    "df"
   ]
  },
  {
   "cell_type": "markdown",
   "metadata": {},
   "source": [
    "### 전처리 2. 풍속, 습도 null값 전처리\n",
    "\n",
    " - 각 지역 별 평균 값으로 입력"
   ]
  },
  {
   "cell_type": "code",
   "execution_count": 93,
   "metadata": {},
   "outputs": [
    {
     "data": {
      "text/plain": [
       "지점명\n",
       "광주    1.310932\n",
       "대구    2.237648\n",
       "대전    1.668528\n",
       "부산    3.202462\n",
       "서울    2.332965\n",
       "수원    1.908122\n",
       "울산    2.141794\n",
       "인천    2.800677\n",
       "창원    1.452030\n",
       "포항    2.752030\n",
       "Name: 풍속, dtype: float64"
      ]
     },
     "execution_count": 93,
     "metadata": {},
     "output_type": "execute_result"
    }
   ],
   "source": [
    "grouped = df['풍속'].groupby(df['지점명']).mean()\n",
    "grouped"
   ]
  },
  {
   "cell_type": "code",
   "execution_count": 94,
   "metadata": {},
   "outputs": [],
   "source": [
    "df['풍속'] = df['풍속'].fillna(df.groupby('지점명')['풍속'].transform('mean'))\n",
    "df['습도'] = df['습도'].fillna(df.groupby('지점명')['습도'].transform('mean'))"
   ]
  },
  {
   "cell_type": "markdown",
   "metadata": {},
   "source": [
    "### 전처리3. 최고기온 최저기온 null값 처리\n",
    "\n",
    "- 바로 전 날의 데이터로 결측치 대체"
   ]
  },
  {
   "cell_type": "code",
   "execution_count": 95,
   "metadata": {},
   "outputs": [
    {
     "name": "stderr",
     "output_type": "stream",
     "text": [
      "/var/folders/_r/cptctqz510x3xvwm2fmrfz_r0000gn/T/ipykernel_46129/3093923572.py:1: FutureWarning: Series.fillna with 'method' is deprecated and will raise in a future version. Use obj.ffill() or obj.bfill() instead.\n",
      "  df['최고기온'] = df['최고기온'].fillna(method = 'pad')\n",
      "/var/folders/_r/cptctqz510x3xvwm2fmrfz_r0000gn/T/ipykernel_46129/3093923572.py:2: FutureWarning: Series.fillna with 'method' is deprecated and will raise in a future version. Use obj.ffill() or obj.bfill() instead.\n",
      "  df['최저기온'] = df['최저기온'].fillna(method = 'pad')\n"
     ]
    }
   ],
   "source": [
    "df['최고기온'] = df['최고기온'].fillna(method = 'pad')\n",
    "df['최저기온'] = df['최저기온'].fillna(method = 'pad')"
   ]
  },
  {
   "cell_type": "code",
   "execution_count": 97,
   "metadata": {},
   "outputs": [
    {
     "data": {
      "text/plain": [
       "지점      0\n",
       "지점명     0\n",
       "일시      0\n",
       "평균기온    0\n",
       "최저기온    0\n",
       "최고기온    0\n",
       "일강수량    0\n",
       "풍속      0\n",
       "습도      0\n",
       "강수여부    0\n",
       "dtype: int64"
      ]
     },
     "execution_count": 97,
     "metadata": {},
     "output_type": "execute_result"
    }
   ],
   "source": [
    "df.isnull().sum()"
   ]
  }
 ],
 "metadata": {
  "kernelspec": {
   "display_name": "Python 3",
   "language": "python",
   "name": "python3"
  },
  "language_info": {
   "codemirror_mode": {
    "name": "ipython",
    "version": 3
   },
   "file_extension": ".py",
   "mimetype": "text/x-python",
   "name": "python",
   "nbconvert_exporter": "python",
   "pygments_lexer": "ipython3",
   "version": "3.12.2"
  }
 },
 "nbformat": 4,
 "nbformat_minor": 2
}
